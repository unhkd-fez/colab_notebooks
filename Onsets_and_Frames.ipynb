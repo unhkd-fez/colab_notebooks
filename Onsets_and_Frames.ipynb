{
 "cells": [
  {
   "cell_type": "markdown",
   "metadata": {
    "colab_type": "text",
    "id": "gYGMczS-7rkJ"
   },
   "source": [
    "Copyright 2017 Google LLC.\n",
    "\n",
    "Licensed under the Apache License, Version 2.0 (the \"License\");\n",
    "you may not use this file except in compliance with the License.\n",
    "You may obtain a copy of the License at\n",
    "\n",
    "https://www.apache.org/licenses/LICENSE-2.0\n",
    "\n",
    "Unless required by applicable law or agreed to in writing, software\n",
    "distributed under the License is distributed on an \"AS IS\" BASIS,\n",
    "WITHOUT WARRANTIES OR CONDITIONS OF ANY KIND, either express or implied.\n",
    "See the License for the specific language governing permissions and\n",
    "limitations under the License."
   ]
  },
  {
   "cell_type": "markdown",
   "metadata": {
    "colab_type": "text",
    "id": "IiIFvcvy7dH5"
   },
   "source": [
    "# Onsets and Frames: Dual-Objective Piano Transcription\n",
    "\n",
    "### ___Curtis Hawthorne, Erich Elsen, Jialin Song, Adam Roberts, Ian Simon, Colin Raffel, Jesse Engel, Sageev Oore, Douglas Eck___ ([arXiv](https://goo.gl/magenta/onsets-frames-paper)) ([code](https://goo.gl/magenta/onsets-frames-code))\n",
    "\n",
    "Onsets and Frames is an automatic piano music transcription model. This notebook demonstrates running the model on user-supplied recordings. For more details on the architecture of the model, see our [arXiv paper](https://goo.gl/magenta/onsets-frames-paper).\n",
    "\n",
    "___\n",
    "\n",
    "This colab notebook is self-contained and should run natively on google cloud. The code and checkpoints can be downloaded separately and run locally, which is recommended if you want to train your own model. Details on how to do this can be found in the [GitHub repo](https://goo.gl/magenta/onsets-frames-code)."
   ]
  },
  {
   "cell_type": "markdown",
   "metadata": {
    "colab_type": "text",
    "id": "j79eR9mp_oaH"
   },
   "source": [
    "# Environment Setup\n",
    "\n",
    "Includes package installation for sequence synthesis and downloading pretrained checkpoint. May take a few minutes."
   ]
  },
  {
   "cell_type": "code",
   "execution_count": 0,
   "metadata": {
    "cellView": "form",
    "colab": {},
    "colab_type": "code",
    "id": "nzGyqJja7I0O"
   },
   "outputs": [],
   "source": [
    "#@title Setup Environment\n",
    "\n",
    "from __future__ import absolute_import\n",
    "from __future__ import division\n",
    "from __future__ import print_function\n",
    "\n",
    "import glob\n",
    "\n",
    "print('Copying checkpoint from GCS...')\n",
    "!rm -r /content/onsets-frames\n",
    "!mkdir /content/onsets-frames\n",
    "!gsutil -q -m cp -R gs://magentadata/models/onsets_frames_transcription/* /content/onsets-frames/\n",
    "!unzip -o /content/onsets-frames/checkpoint.zip -d /content/onsets-frames\n",
    "CHECKPOINT_DIR = '/content/onsets-frames/train'\n",
    "  \n",
    "print('Installing dependencies...')\n",
    "!apt-get update -qq && apt-get install -qq libfluidsynth1 fluid-soundfont-gm build-essential libasound2-dev libjack-dev ffmpeg  \n",
    "!pip install pyfluidsynth pretty_midi\n",
    "\n",
    "if glob.glob('/content/onsets-frames/magenta*.whl'):\n",
    "  !pip install -q /content/onsets-frames/magenta*.whl\n",
    "else:\n",
    "  !pip install -q magenta\n",
    "\n",
    "# Hack to allow python to pick up the newly-installed fluidsynth lib.\n",
    "import ctypes.util\n",
    "\n",
    "orig_find_library = ctypes.util.find_library\n",
    "def proxy_find_library(lib):\n",
    "  if lib == 'fluidsynth':\n",
    "    return 'libfluidsynth.so.1'\n",
    "  else:\n",
    "    return orig_find_library(lib)\n",
    "\n",
    "ctypes.util.find_library = proxy_find_library"
   ]
  },
  {
   "cell_type": "markdown",
   "metadata": {
    "colab_type": "text",
    "id": "RE-Z_a6UCAf2"
   },
   "source": [
    "# Model Initializiation"
   ]
  },
  {
   "cell_type": "code",
   "execution_count": 0,
   "metadata": {
    "cellView": "both",
    "colab": {},
    "colab_type": "code",
    "id": "n8GJ5pRc6biH"
   },
   "outputs": [],
   "source": [
    "import tensorflow as tf\n",
    "import librosa\n",
    "import numpy as np\n",
    "\n",
    "from google.colab import files\n",
    "\n",
    "from magenta.common import tf_utils\n",
    "from magenta.music import audio_io\n",
    "import magenta.music as mm\n",
    "from magenta.models.onsets_frames_transcription import model\n",
    "from magenta.models.onsets_frames_transcription import constants\n",
    "from magenta.models.onsets_frames_transcription import data\n",
    "from magenta.models.onsets_frames_transcription import infer_util\n",
    "from magenta.music import midi_io\n",
    "from magenta.protobuf import music_pb2\n",
    "\n",
    "## Define model and load checkpoint\n",
    "## Only needs to be run once.\n",
    "\n",
    "acoustic_checkpoint = tf.train.latest_checkpoint(CHECKPOINT_DIR)\n",
    "print(('acoustic_checkpoint=' + acoustic_checkpoint))\n",
    "hparams =  tf_utils.merge_hparams(\n",
    "      constants.DEFAULT_HPARAMS, model.get_default_hparams())\n",
    "\n",
    "with tf.Graph().as_default():\n",
    "  examples = tf.placeholder(tf.string, [None])\n",
    "\n",
    "  num_dims = constants.MIDI_PITCHES\n",
    "\n",
    "  batch, iterator = data.provide_batch(\n",
    "      batch_size=1,\n",
    "      examples=examples,\n",
    "      hparams=hparams,\n",
    "      is_training=False,\n",
    "      truncated_length=0)\n",
    "\n",
    "  model.get_model(batch, hparams, is_training=False)\n",
    "\n",
    "  session = tf.Session()\n",
    "  saver = tf.train.Saver()\n",
    "  saver.restore(session, acoustic_checkpoint)\n",
    "\n",
    "  onset_probs_flat = tf.get_default_graph().get_tensor_by_name(\n",
    "      'onsets/onset_probs_flat:0')\n",
    "  frame_probs_flat = tf.get_default_graph().get_tensor_by_name(\n",
    "     'frame_probs_flat:0')\n",
    "  velocity_values_flat = tf.get_default_graph().get_tensor_by_name(\n",
    "     'velocity/velocity_values_flat:0')"
   ]
  },
  {
   "cell_type": "markdown",
   "metadata": {
    "colab_type": "text",
    "id": "qFiGvUBaCM9_"
   },
   "source": [
    "# Upload Audio\n",
    "\n",
    "Run the following cell to upload audio files."
   ]
  },
  {
   "cell_type": "code",
   "execution_count": 0,
   "metadata": {
    "cellView": "both",
    "colab": {
     "base_uri": "https://localhost:8080/",
     "height": 109,
     "resources": {
      "http://localhost:8080/nbextensions/google.colab/files.js": {
       "data": "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",
       "headers": [
        [
         "content-type",
         "application/javascript"
        ]
       ],
       "ok": true,
       "status": 200,
       "status_text": ""
      }
     }
    },
    "colab_type": "code",
    "id": "AxmkX4Tu5UJd",
    "outputId": "8158820e-47d3-4a2c-97d6-6008391f2cd8"
   },
   "outputs": [
    {
     "data": {
      "text/html": [
       "\n",
       "     <input type=\"file\" id=\"files-683e8506-79f1-4620-9c67-6e062188669f\" name=\"files[]\" multiple disabled />\n",
       "     <output id=\"result-683e8506-79f1-4620-9c67-6e062188669f\">\n",
       "      Upload widget is only available when the cell has been executed in the\n",
       "      current browser session. Please rerun this cell to enable.\n",
       "      </output>\n",
       "      <script src=\"/nbextensions/google.colab/files.js\"></script> "
      ],
      "text/plain": [
       "<IPython.core.display.HTML object>"
      ]
     },
     "metadata": {
      "tags": []
     },
     "output_type": "display_data"
    },
    {
     "name": "stdout",
     "output_type": "stream",
     "text": [
      "Saving MAPS_MUS-mz_331_3_ENSTDkCl-snippet.wav to MAPS_MUS-mz_331_3_ENSTDkCl-snippet (1).wav\n",
      "User uploaded file \"MAPS_MUS-mz_331_3_ENSTDkCl-snippet.wav\" with length 2445488 bytes\n",
      "Processing complete for MAPS_MUS-mz_331_3_ENSTDkCl-snippet.wav\n"
     ]
    }
   ],
   "source": [
    "uploaded = files.upload()\n",
    "\n",
    "to_process = []\n",
    "for fn in list(uploaded.keys()):\n",
    "  print(('User uploaded file \"{name}\" with length {length} bytes'.format(\n",
    "      name=fn, length=len(uploaded[fn]))))\n",
    "  open(fn, 'w').write(uploaded[fn])\n",
    "  wav_data = audio_io.samples_to_wav_data(\n",
    "      librosa.util.normalize(librosa.core.load(fn, sr=hparams.sample_rate)[0]),\n",
    "      hparams.sample_rate)\n",
    "\n",
    "  example = tf.train.Example(features=tf.train.Features(feature={\n",
    "      'id':\n",
    "          tf.train.Feature(bytes_list=tf.train.BytesList(\n",
    "              value=[fn.encode('utf-8')]\n",
    "          )),\n",
    "      'sequence':\n",
    "          tf.train.Feature(bytes_list=tf.train.BytesList(\n",
    "              value=[music_pb2.NoteSequence().SerializeToString()]\n",
    "          )),\n",
    "      'audio':\n",
    "          tf.train.Feature(bytes_list=tf.train.BytesList(\n",
    "              value=[wav_data]\n",
    "          )),\n",
    "      'velocity_range':\n",
    "          tf.train.Feature(bytes_list=tf.train.BytesList(\n",
    "              value=[music_pb2.VelocityRange().SerializeToString()]\n",
    "          )),\n",
    "  }))\n",
    "  to_process.append(example.SerializeToString())\n",
    "  print(('Processing complete for', fn))\n",
    "  \n",
    "  \n",
    "session.run(iterator.initializer, {examples: to_process})"
   ]
  },
  {
   "cell_type": "markdown",
   "metadata": {
    "colab_type": "text",
    "id": "lMimufLfNMMq"
   },
   "source": [
    "# Inference\n",
    "\n",
    "Run the following cell to transcribe the files you uploaded. Each time it runs it will transcribe one of the uploaded files."
   ]
  },
  {
   "cell_type": "code",
   "execution_count": 0,
   "metadata": {
    "colab": {
     "base_uri": "https://localhost:8080/",
     "height": 322
    },
    "colab_type": "code",
    "id": "Z5SYRvIm8gq5",
    "outputId": "f5d416dc-9e10-4617-fc34-9ae048b05b20"
   },
   "outputs": [
    {
     "name": "stdout",
     "output_type": "stream",
     "text": [
      "Inference complete for MAPS_MUS-mz_331_3_ENSTDkCl-snippet.wav\n"
     ]
    },
    {
     "data": {
      "text/html": [
       "\n",
       "    <div class=\"bk-root\">\n",
       "        <a href=\"https://bokeh.pydata.org\" target=\"_blank\" class=\"bk-logo bk-logo-small bk-logo-notebook\"></a>\n",
       "        <span id=\"973e7f43-3f11-4be2-9138-10087d9c6926\">Loading BokehJS ...</span>\n",
       "    </div>"
      ]
     },
     "metadata": {
      "tags": []
     },
     "output_type": "display_data"
    },
    {
     "data": {
      "application/javascript": [
       "\n",
       "(function(root) {\n",
       "  function now() {\n",
       "    return new Date();\n",
       "  }\n",
       "\n",
       "  var force = true;\n",
       "\n",
       "  if (typeof (root._bokeh_onload_callbacks) === \"undefined\" || force === true) {\n",
       "    root._bokeh_onload_callbacks = [];\n",
       "    root._bokeh_is_loading = undefined;\n",
       "  }\n",
       "\n",
       "  var JS_MIME_TYPE = 'application/javascript';\n",
       "  var HTML_MIME_TYPE = 'text/html';\n",
       "  var EXEC_MIME_TYPE = 'application/vnd.bokehjs_exec.v0+json';\n",
       "  var CLASS_NAME = 'output_bokeh rendered_html';\n",
       "\n",
       "  /**\n",
       "   * Render data to the DOM node\n",
       "   */\n",
       "  function render(props, node) {\n",
       "    var script = document.createElement(\"script\");\n",
       "    node.appendChild(script);\n",
       "  }\n",
       "\n",
       "  /**\n",
       "   * Handle when an output is cleared or removed\n",
       "   */\n",
       "  function handleClearOutput(event, handle) {\n",
       "    var cell = handle.cell;\n",
       "\n",
       "    var id = cell.output_area._bokeh_element_id;\n",
       "    var server_id = cell.output_area._bokeh_server_id;\n",
       "    // Clean up Bokeh references\n",
       "    if (id != null && id in Bokeh.index) {\n",
       "      Bokeh.index[id].model.document.clear();\n",
       "      delete Bokeh.index[id];\n",
       "    }\n",
       "\n",
       "    if (server_id !== undefined) {\n",
       "      // Clean up Bokeh references\n",
       "      var cmd = \"from bokeh.io.state import curstate; print(curstate().uuid_to_server['\" + server_id + \"'].get_sessions()[0].document.roots[0]._id)\";\n",
       "      cell.notebook.kernel.execute(cmd, {\n",
       "        iopub: {\n",
       "          output: function(msg) {\n",
       "            var id = msg.content.text.trim();\n",
       "            if (id in Bokeh.index) {\n",
       "              Bokeh.index[id].model.document.clear();\n",
       "              delete Bokeh.index[id];\n",
       "            }\n",
       "          }\n",
       "        }\n",
       "      });\n",
       "      // Destroy server and session\n",
       "      var cmd = \"import bokeh.io.notebook as ion; ion.destroy_server('\" + server_id + \"')\";\n",
       "      cell.notebook.kernel.execute(cmd);\n",
       "    }\n",
       "  }\n",
       "\n",
       "  /**\n",
       "   * Handle when a new output is added\n",
       "   */\n",
       "  function handleAddOutput(event, handle) {\n",
       "    var output_area = handle.output_area;\n",
       "    var output = handle.output;\n",
       "\n",
       "    // limit handleAddOutput to display_data with EXEC_MIME_TYPE content only\n",
       "    if ((output.output_type != \"display_data\") || (!output.data.hasOwnProperty(EXEC_MIME_TYPE))) {\n",
       "      return\n",
       "    }\n",
       "\n",
       "    var toinsert = output_area.element.find(\".\" + CLASS_NAME.split(' ')[0]);\n",
       "\n",
       "    if (output.metadata[EXEC_MIME_TYPE][\"id\"] !== undefined) {\n",
       "      toinsert[toinsert.length - 1].firstChild.textContent = output.data[JS_MIME_TYPE];\n",
       "      // store reference to embed id on output_area\n",
       "      output_area._bokeh_element_id = output.metadata[EXEC_MIME_TYPE][\"id\"];\n",
       "    }\n",
       "    if (output.metadata[EXEC_MIME_TYPE][\"server_id\"] !== undefined) {\n",
       "      var bk_div = document.createElement(\"div\");\n",
       "      bk_div.innerHTML = output.data[HTML_MIME_TYPE];\n",
       "      var script_attrs = bk_div.children[0].attributes;\n",
       "      for (var i = 0; i < script_attrs.length; i++) {\n",
       "        toinsert[toinsert.length - 1].firstChild.setAttribute(script_attrs[i].name, script_attrs[i].value);\n",
       "      }\n",
       "      // store reference to server id on output_area\n",
       "      output_area._bokeh_server_id = output.metadata[EXEC_MIME_TYPE][\"server_id\"];\n",
       "    }\n",
       "  }\n",
       "\n",
       "  function register_renderer(events, OutputArea) {\n",
       "\n",
       "    function append_mime(data, metadata, element) {\n",
       "      // create a DOM node to render to\n",
       "      var toinsert = this.create_output_subarea(\n",
       "        metadata,\n",
       "        CLASS_NAME,\n",
       "        EXEC_MIME_TYPE\n",
       "      );\n",
       "      this.keyboard_manager.register_events(toinsert);\n",
       "      // Render to node\n",
       "      var props = {data: data, metadata: metadata[EXEC_MIME_TYPE]};\n",
       "      render(props, toinsert[toinsert.length - 1]);\n",
       "      element.append(toinsert);\n",
       "      return toinsert\n",
       "    }\n",
       "\n",
       "    /* Handle when an output is cleared or removed */\n",
       "    events.on('clear_output.CodeCell', handleClearOutput);\n",
       "    events.on('delete.Cell', handleClearOutput);\n",
       "\n",
       "    /* Handle when a new output is added */\n",
       "    events.on('output_added.OutputArea', handleAddOutput);\n",
       "\n",
       "    /**\n",
       "     * Register the mime type and append_mime function with output_area\n",
       "     */\n",
       "    OutputArea.prototype.register_mime_type(EXEC_MIME_TYPE, append_mime, {\n",
       "      /* Is output safe? */\n",
       "      safe: true,\n",
       "      /* Index of renderer in `output_area.display_order` */\n",
       "      index: 0\n",
       "    });\n",
       "  }\n",
       "\n",
       "  // register the mime type if in Jupyter Notebook environment and previously unregistered\n",
       "  if (root.Jupyter !== undefined) {\n",
       "    var events = require('base/js/events');\n",
       "    var OutputArea = require('notebook/js/outputarea').OutputArea;\n",
       "\n",
       "    if (OutputArea.prototype.mime_types().indexOf(EXEC_MIME_TYPE) == -1) {\n",
       "      register_renderer(events, OutputArea);\n",
       "    }\n",
       "  }\n",
       "\n",
       "  \n",
       "  if (typeof (root._bokeh_timeout) === \"undefined\" || force === true) {\n",
       "    root._bokeh_timeout = Date.now() + 5000;\n",
       "    root._bokeh_failed_load = false;\n",
       "  }\n",
       "\n",
       "  var NB_LOAD_WARNING = {'data': {'text/html':\n",
       "     \"<div style='background-color: #fdd'>\\n\"+\n",
       "     \"<p>\\n\"+\n",
       "     \"BokehJS does not appear to have successfully loaded. If loading BokehJS from CDN, this \\n\"+\n",
       "     \"may be due to a slow or bad network connection. Possible fixes:\\n\"+\n",
       "     \"</p>\\n\"+\n",
       "     \"<ul>\\n\"+\n",
       "     \"<li>re-rerun `output_notebook()` to attempt to load from CDN again, or</li>\\n\"+\n",
       "     \"<li>use INLINE resources instead, as so:</li>\\n\"+\n",
       "     \"</ul>\\n\"+\n",
       "     \"<code>\\n\"+\n",
       "     \"from bokeh.resources import INLINE\\n\"+\n",
       "     \"output_notebook(resources=INLINE)\\n\"+\n",
       "     \"</code>\\n\"+\n",
       "     \"</div>\"}};\n",
       "\n",
       "  function display_loaded() {\n",
       "    var el = document.getElementById(\"973e7f43-3f11-4be2-9138-10087d9c6926\");\n",
       "    if (el != null) {\n",
       "      el.textContent = \"BokehJS is loading...\";\n",
       "    }\n",
       "    if (root.Bokeh !== undefined) {\n",
       "      if (el != null) {\n",
       "        el.textContent = \"BokehJS \" + root.Bokeh.version + \" successfully loaded.\";\n",
       "      }\n",
       "    } else if (Date.now() < root._bokeh_timeout) {\n",
       "      setTimeout(display_loaded, 100)\n",
       "    }\n",
       "  }\n",
       "\n",
       "\n",
       "  function run_callbacks() {\n",
       "    try {\n",
       "      root._bokeh_onload_callbacks.forEach(function(callback) { callback() });\n",
       "    }\n",
       "    finally {\n",
       "      delete root._bokeh_onload_callbacks\n",
       "    }\n",
       "    console.info(\"Bokeh: all callbacks have finished\");\n",
       "  }\n",
       "\n",
       "  function load_libs(js_urls, callback) {\n",
       "    root._bokeh_onload_callbacks.push(callback);\n",
       "    if (root._bokeh_is_loading > 0) {\n",
       "      console.log(\"Bokeh: BokehJS is being loaded, scheduling callback at\", now());\n",
       "      return null;\n",
       "    }\n",
       "    if (js_urls == null || js_urls.length === 0) {\n",
       "      run_callbacks();\n",
       "      return null;\n",
       "    }\n",
       "    console.log(\"Bokeh: BokehJS not loaded, scheduling load and callback at\", now());\n",
       "    root._bokeh_is_loading = js_urls.length;\n",
       "    for (var i = 0; i < js_urls.length; i++) {\n",
       "      var url = js_urls[i];\n",
       "      var s = document.createElement('script');\n",
       "      s.src = url;\n",
       "      s.async = false;\n",
       "      s.onreadystatechange = s.onload = function() {\n",
       "        root._bokeh_is_loading--;\n",
       "        if (root._bokeh_is_loading === 0) {\n",
       "          console.log(\"Bokeh: all BokehJS libraries loaded\");\n",
       "          run_callbacks()\n",
       "        }\n",
       "      };\n",
       "      s.onerror = function() {\n",
       "        console.warn(\"failed to load library \" + url);\n",
       "      };\n",
       "      console.log(\"Bokeh: injecting script tag for BokehJS library: \", url);\n",
       "      document.getElementsByTagName(\"head\")[0].appendChild(s);\n",
       "    }\n",
       "  };var element = document.getElementById(\"973e7f43-3f11-4be2-9138-10087d9c6926\");\n",
       "  if (element == null) {\n",
       "    console.log(\"Bokeh: ERROR: autoload.js configured with elementid '973e7f43-3f11-4be2-9138-10087d9c6926' but no matching script tag was found. \")\n",
       "    return false;\n",
       "  }\n",
       "\n",
       "  var js_urls = [\"https://cdn.pydata.org/bokeh/release/bokeh-0.13.0.min.js\", \"https://cdn.pydata.org/bokeh/release/bokeh-widgets-0.13.0.min.js\", \"https://cdn.pydata.org/bokeh/release/bokeh-tables-0.13.0.min.js\", \"https://cdn.pydata.org/bokeh/release/bokeh-gl-0.13.0.min.js\"];\n",
       "\n",
       "  var inline_js = [\n",
       "    function(Bokeh) {\n",
       "      Bokeh.set_log_level(\"info\");\n",
       "    },\n",
       "    \n",
       "    function(Bokeh) {\n",
       "      \n",
       "    },\n",
       "    function(Bokeh) {\n",
       "      console.log(\"Bokeh: injecting CSS: https://cdn.pydata.org/bokeh/release/bokeh-0.13.0.min.css\");\n",
       "      Bokeh.embed.inject_css(\"https://cdn.pydata.org/bokeh/release/bokeh-0.13.0.min.css\");\n",
       "      console.log(\"Bokeh: injecting CSS: https://cdn.pydata.org/bokeh/release/bokeh-widgets-0.13.0.min.css\");\n",
       "      Bokeh.embed.inject_css(\"https://cdn.pydata.org/bokeh/release/bokeh-widgets-0.13.0.min.css\");\n",
       "      console.log(\"Bokeh: injecting CSS: https://cdn.pydata.org/bokeh/release/bokeh-tables-0.13.0.min.css\");\n",
       "      Bokeh.embed.inject_css(\"https://cdn.pydata.org/bokeh/release/bokeh-tables-0.13.0.min.css\");\n",
       "    }\n",
       "  ];\n",
       "\n",
       "  function run_inline_js() {\n",
       "    \n",
       "    if ((root.Bokeh !== undefined) || (force === true)) {\n",
       "      for (var i = 0; i < inline_js.length; i++) {\n",
       "        inline_js[i].call(root, root.Bokeh);\n",
       "      }if (force === true) {\n",
       "        display_loaded();\n",
       "      }} else if (Date.now() < root._bokeh_timeout) {\n",
       "      setTimeout(run_inline_js, 100);\n",
       "    } else if (!root._bokeh_failed_load) {\n",
       "      console.log(\"Bokeh: BokehJS failed to load within specified timeout.\");\n",
       "      root._bokeh_failed_load = true;\n",
       "    } else if (force !== true) {\n",
       "      var cell = $(document.getElementById(\"973e7f43-3f11-4be2-9138-10087d9c6926\")).parents('.cell').data().cell;\n",
       "      cell.output_area.append_execute_result(NB_LOAD_WARNING)\n",
       "    }\n",
       "\n",
       "  }\n",
       "\n",
       "  if (root._bokeh_is_loading === 0) {\n",
       "    console.log(\"Bokeh: BokehJS loaded, going straight to plotting\");\n",
       "    run_inline_js();\n",
       "  } else {\n",
       "    load_libs(js_urls, function() {\n",
       "      console.log(\"Bokeh: BokehJS plotting callback run at\", now());\n",
       "      run_inline_js();\n",
       "    });\n",
       "  }\n",
       "}(window));"
      ],
      "application/vnd.bokehjs_load.v0+json": "\n(function(root) {\n  function now() {\n    return new Date();\n  }\n\n  var force = true;\n\n  if (typeof (root._bokeh_onload_callbacks) === \"undefined\" || force === true) {\n    root._bokeh_onload_callbacks = [];\n    root._bokeh_is_loading = undefined;\n  }\n\n  \n\n  \n  if (typeof (root._bokeh_timeout) === \"undefined\" || force === true) {\n    root._bokeh_timeout = Date.now() + 5000;\n    root._bokeh_failed_load = false;\n  }\n\n  var NB_LOAD_WARNING = {'data': {'text/html':\n     \"<div style='background-color: #fdd'>\\n\"+\n     \"<p>\\n\"+\n     \"BokehJS does not appear to have successfully loaded. If loading BokehJS from CDN, this \\n\"+\n     \"may be due to a slow or bad network connection. Possible fixes:\\n\"+\n     \"</p>\\n\"+\n     \"<ul>\\n\"+\n     \"<li>re-rerun `output_notebook()` to attempt to load from CDN again, or</li>\\n\"+\n     \"<li>use INLINE resources instead, as so:</li>\\n\"+\n     \"</ul>\\n\"+\n     \"<code>\\n\"+\n     \"from bokeh.resources import INLINE\\n\"+\n     \"output_notebook(resources=INLINE)\\n\"+\n     \"</code>\\n\"+\n     \"</div>\"}};\n\n  function display_loaded() {\n    var el = document.getElementById(\"973e7f43-3f11-4be2-9138-10087d9c6926\");\n    if (el != null) {\n      el.textContent = \"BokehJS is loading...\";\n    }\n    if (root.Bokeh !== undefined) {\n      if (el != null) {\n        el.textContent = \"BokehJS \" + root.Bokeh.version + \" successfully loaded.\";\n      }\n    } else if (Date.now() < root._bokeh_timeout) {\n      setTimeout(display_loaded, 100)\n    }\n  }\n\n\n  function run_callbacks() {\n    try {\n      root._bokeh_onload_callbacks.forEach(function(callback) { callback() });\n    }\n    finally {\n      delete root._bokeh_onload_callbacks\n    }\n    console.info(\"Bokeh: all callbacks have finished\");\n  }\n\n  function load_libs(js_urls, callback) {\n    root._bokeh_onload_callbacks.push(callback);\n    if (root._bokeh_is_loading > 0) {\n      console.log(\"Bokeh: BokehJS is being loaded, scheduling callback at\", now());\n      return null;\n    }\n    if (js_urls == null || js_urls.length === 0) {\n      run_callbacks();\n      return null;\n    }\n    console.log(\"Bokeh: BokehJS not loaded, scheduling load and callback at\", now());\n    root._bokeh_is_loading = js_urls.length;\n    for (var i = 0; i < js_urls.length; i++) {\n      var url = js_urls[i];\n      var s = document.createElement('script');\n      s.src = url;\n      s.async = false;\n      s.onreadystatechange = s.onload = function() {\n        root._bokeh_is_loading--;\n        if (root._bokeh_is_loading === 0) {\n          console.log(\"Bokeh: all BokehJS libraries loaded\");\n          run_callbacks()\n        }\n      };\n      s.onerror = function() {\n        console.warn(\"failed to load library \" + url);\n      };\n      console.log(\"Bokeh: injecting script tag for BokehJS library: \", url);\n      document.getElementsByTagName(\"head\")[0].appendChild(s);\n    }\n  };var element = document.getElementById(\"973e7f43-3f11-4be2-9138-10087d9c6926\");\n  if (element == null) {\n    console.log(\"Bokeh: ERROR: autoload.js configured with elementid '973e7f43-3f11-4be2-9138-10087d9c6926' but no matching script tag was found. \")\n    return false;\n  }\n\n  var js_urls = [\"https://cdn.pydata.org/bokeh/release/bokeh-0.13.0.min.js\", \"https://cdn.pydata.org/bokeh/release/bokeh-widgets-0.13.0.min.js\", \"https://cdn.pydata.org/bokeh/release/bokeh-tables-0.13.0.min.js\", \"https://cdn.pydata.org/bokeh/release/bokeh-gl-0.13.0.min.js\"];\n\n  var inline_js = [\n    function(Bokeh) {\n      Bokeh.set_log_level(\"info\");\n    },\n    \n    function(Bokeh) {\n      \n    },\n    function(Bokeh) {\n      console.log(\"Bokeh: injecting CSS: https://cdn.pydata.org/bokeh/release/bokeh-0.13.0.min.css\");\n      Bokeh.embed.inject_css(\"https://cdn.pydata.org/bokeh/release/bokeh-0.13.0.min.css\");\n      console.log(\"Bokeh: injecting CSS: https://cdn.pydata.org/bokeh/release/bokeh-widgets-0.13.0.min.css\");\n      Bokeh.embed.inject_css(\"https://cdn.pydata.org/bokeh/release/bokeh-widgets-0.13.0.min.css\");\n      console.log(\"Bokeh: injecting CSS: https://cdn.pydata.org/bokeh/release/bokeh-tables-0.13.0.min.css\");\n      Bokeh.embed.inject_css(\"https://cdn.pydata.org/bokeh/release/bokeh-tables-0.13.0.min.css\");\n    }\n  ];\n\n  function run_inline_js() {\n    \n    if ((root.Bokeh !== undefined) || (force === true)) {\n      for (var i = 0; i < inline_js.length; i++) {\n        inline_js[i].call(root, root.Bokeh);\n      }if (force === true) {\n        display_loaded();\n      }} else if (Date.now() < root._bokeh_timeout) {\n      setTimeout(run_inline_js, 100);\n    } else if (!root._bokeh_failed_load) {\n      console.log(\"Bokeh: BokehJS failed to load within specified timeout.\");\n      root._bokeh_failed_load = true;\n    } else if (force !== true) {\n      var cell = $(document.getElementById(\"973e7f43-3f11-4be2-9138-10087d9c6926\")).parents('.cell').data().cell;\n      cell.output_area.append_execute_result(NB_LOAD_WARNING)\n    }\n\n  }\n\n  if (root._bokeh_is_loading === 0) {\n    console.log(\"Bokeh: BokehJS loaded, going straight to plotting\");\n    run_inline_js();\n  } else {\n    load_libs(js_urls, function() {\n      console.log(\"Bokeh: BokehJS plotting callback run at\", now());\n      run_inline_js();\n    });\n  }\n}(window));"
     },
     "metadata": {
      "tags": []
     },
     "output_type": "display_data"
    },
    {
     "data": {
      "text/html": [
       "\n",
       "\n",
       "\n",
       "\n",
       "\n",
       "\n",
       "  <div class=\"bk-root\" id=\"c9d8abdd-6434-40a5-99ef-6493fa218e25\"></div>\n"
      ]
     },
     "metadata": {
      "tags": []
     },
     "output_type": "display_data"
    },
    {
     "data": {
      "application/javascript": [
       "(function(root) {\n",
       "  function embed_document(root) {\n",
       "    \n",
       "  var docs_json = {\"95506941-1e67-4619-ae39-3ecf6b6b9ee5\":{\"roots\":{\"references\":[{\"attributes\":{},\"id\":\"eaad844e-25d3-4ffc-ad76-fa21503e2dd6\",\"type\":\"PanTool\"},{\"attributes\":{\"dimension\":1,\"plot\":{\"id\":\"869b1fb1-1e1c-47d1-944b-cc13602667b1\",\"subtype\":\"Figure\",\"type\":\"Plot\"},\"ticker\":{\"id\":\"778120d0-fdb6-49a5-9015-b7282a906a05\",\"type\":\"SingleIntervalTicker\"}},\"id\":\"f40fe25d-ce00-46db-b9c7-31801f129f65\",\"type\":\"Grid\"},{\"attributes\":{\"callback\":null,\"renderers\":\"auto\",\"tooltips\":[[\"velo\",\"@velocity\"],[\"program\",\"@program\"],[\"end_time\",\"@end_time\"],[\"pitch\",\"@pitch\"],[\"duration\",\"@duration\"],[\"velocity\",\"@velocity\"],[\"start_time\",\"@start_time\"],[\"fill_alpha\",\"@fill_alpha\"]]},\"id\":\"22b8c31e-a9dc-450c-bdff-abf57db639ce\",\"type\":\"HoverTool\"},{\"attributes\":{\"active_drag\":\"auto\",\"active_inspect\":\"auto\",\"active_multi\":null,\"active_scroll\":\"auto\",\"active_tap\":\"auto\",\"tools\":[{\"id\":\"22b8c31e-a9dc-450c-bdff-abf57db639ce\",\"type\":\"HoverTool\"},{\"id\":\"eaad844e-25d3-4ffc-ad76-fa21503e2dd6\",\"type\":\"PanTool\"},{\"id\":\"9a30f58b-02f9-4957-81e4-3daa744632e4\",\"type\":\"BoxZoomTool\"},{\"id\":\"3da17a8c-3d33-451d-9de4-742011c037d8\",\"type\":\"ResetTool\"},{\"id\":\"caf86801-6adc-4685-b1c8-56878ced01f5\",\"type\":\"SaveTool\"}]},\"id\":\"9bb298e9-731c-4187-9a55-1567a3fe283a\",\"type\":\"Toolbar\"},{\"attributes\":{\"callback\":null},\"id\":\"a8cd9883-230f-47e0-a421-99607bf10b53\",\"type\":\"DataRange1d\"},{\"attributes\":{\"overlay\":{\"id\":\"8b29427c-bc05-4b9e-bd36-27af072f403c\",\"type\":\"BoxAnnotation\"}},\"id\":\"9a30f58b-02f9-4957-81e4-3daa744632e4\",\"type\":\"BoxZoomTool\"},{\"attributes\":{\"callback\":null},\"id\":\"1af9b706-8374-45d2-83ac-f7d46b7786c7\",\"type\":\"DataRange1d\"},{\"attributes\":{\"data_source\":{\"id\":\"f15d0682-9987-4fc5-9ccd-890494b5814b\",\"type\":\"ColumnDataSource\"},\"glyph\":{\"id\":\"d28c6f10-cb66-41d0-8440-df9a8d3bfb72\",\"type\":\"Quad\"},\"hover_glyph\":null,\"muted_glyph\":null,\"nonselection_glyph\":{\"id\":\"bf7b353b-661c-43d7-8556-b083e56682a2\",\"type\":\"Quad\"},\"selection_glyph\":null,\"view\":{\"id\":\"43cec397-c8ab-4139-88ed-c254f83f2a5c\",\"type\":\"CDSView\"}},\"id\":\"feca11e2-e187-49e8-92e2-971ac981a39b\",\"type\":\"GlyphRenderer\"},{\"attributes\":{\"bottom_units\":\"screen\",\"fill_alpha\":{\"value\":0.5},\"fill_color\":{\"value\":\"lightgrey\"},\"left_units\":\"screen\",\"level\":\"overlay\",\"line_alpha\":{\"value\":1.0},\"line_color\":{\"value\":\"black\"},\"line_dash\":[4,4],\"line_width\":{\"value\":2},\"plot\":null,\"render_mode\":\"css\",\"right_units\":\"screen\",\"top_units\":\"screen\"},\"id\":\"8b29427c-bc05-4b9e-bd36-27af072f403c\",\"type\":\"BoxAnnotation\"},{\"attributes\":{\"below\":[{\"id\":\"0b52823c-4e82-4162-8880-64cc160777fa\",\"type\":\"LinearAxis\"}],\"left\":[{\"id\":\"a6e86e47-fbb5-4d22-a5a4-253eae80d210\",\"type\":\"LinearAxis\"}],\"plot_height\":200,\"plot_width\":500,\"renderers\":[{\"id\":\"0b52823c-4e82-4162-8880-64cc160777fa\",\"type\":\"LinearAxis\"},{\"id\":\"23f43b53-e35a-4728-8e0d-f114f891b0be\",\"type\":\"Grid\"},{\"id\":\"a6e86e47-fbb5-4d22-a5a4-253eae80d210\",\"type\":\"LinearAxis\"},{\"id\":\"f40fe25d-ce00-46db-b9c7-31801f129f65\",\"type\":\"Grid\"},{\"id\":\"8b29427c-bc05-4b9e-bd36-27af072f403c\",\"type\":\"BoxAnnotation\"},{\"id\":\"feca11e2-e187-49e8-92e2-971ac981a39b\",\"type\":\"GlyphRenderer\"}],\"title\":{\"id\":\"f0fd3d27-24ae-4b16-8c2e-66d66f0878c1\",\"type\":\"Title\"},\"toolbar\":{\"id\":\"9bb298e9-731c-4187-9a55-1567a3fe283a\",\"type\":\"Toolbar\"},\"x_range\":{\"id\":\"1af9b706-8374-45d2-83ac-f7d46b7786c7\",\"type\":\"DataRange1d\"},\"x_scale\":{\"id\":\"7066b22a-e2e5-4551-9528-989ce4f1e3ed\",\"type\":\"LinearScale\"},\"y_range\":{\"id\":\"a8cd9883-230f-47e0-a421-99607bf10b53\",\"type\":\"DataRange1d\"},\"y_scale\":{\"id\":\"3abcf3eb-f279-4077-aa2b-317b8b49a6ba\",\"type\":\"LinearScale\"}},\"id\":\"869b1fb1-1e1c-47d1-944b-cc13602667b1\",\"subtype\":\"Figure\",\"type\":\"Plot\"},{\"attributes\":{\"plot\":null,\"text\":\"\"},\"id\":\"f0fd3d27-24ae-4b16-8c2e-66d66f0878c1\",\"type\":\"Title\"},{\"attributes\":{},\"id\":\"d77f9e2b-971b-4a37-a769-43201bd8be36\",\"type\":\"BasicTicker\"},{\"attributes\":{\"plot\":{\"id\":\"869b1fb1-1e1c-47d1-944b-cc13602667b1\",\"subtype\":\"Figure\",\"type\":\"Plot\"},\"ticker\":{\"id\":\"d77f9e2b-971b-4a37-a769-43201bd8be36\",\"type\":\"BasicTicker\"}},\"id\":\"23f43b53-e35a-4728-8e0d-f114f891b0be\",\"type\":\"Grid\"},{\"attributes\":{},\"id\":\"caf86801-6adc-4685-b1c8-56878ced01f5\",\"type\":\"SaveTool\"},{\"attributes\":{},\"id\":\"3da17a8c-3d33-451d-9de4-742011c037d8\",\"type\":\"ResetTool\"},{\"attributes\":{\"bottom\":{\"field\":\"bottom\"},\"fill_alpha\":{\"value\":0.1},\"fill_color\":{\"value\":\"#1f77b4\"},\"left\":{\"field\":\"start_time\"},\"line_alpha\":{\"value\":0.1},\"line_color\":{\"value\":\"#1f77b4\"},\"right\":{\"field\":\"end_time\"},\"top\":{\"field\":\"top\"}},\"id\":\"bf7b353b-661c-43d7-8556-b083e56682a2\",\"type\":\"Quad\"},{\"attributes\":{},\"id\":\"bc8ddaff-e0ab-437d-92d3-c10e1dd211ed\",\"type\":\"Selection\"},{\"attributes\":{\"bottom\":{\"field\":\"bottom\"},\"fill_alpha\":{\"field\":\"fill_alpha\"},\"fill_color\":{\"value\":\"#d53e4f\"},\"left\":{\"field\":\"start_time\"},\"right\":{\"field\":\"end_time\"},\"top\":{\"field\":\"top\"}},\"id\":\"d28c6f10-cb66-41d0-8440-df9a8d3bfb72\",\"type\":\"Quad\"},{\"attributes\":{},\"id\":\"c9ab1d94-8478-4a61-b5f6-649f18b5b094\",\"type\":\"BasicTickFormatter\"},{\"attributes\":{},\"id\":\"11113207-b840-46ab-ae88-1ca454a7da91\",\"type\":\"BasicTickFormatter\"},{\"attributes\":{\"axis_label\":\"time (sec)\",\"formatter\":{\"id\":\"c9ab1d94-8478-4a61-b5f6-649f18b5b094\",\"type\":\"BasicTickFormatter\"},\"plot\":{\"id\":\"869b1fb1-1e1c-47d1-944b-cc13602667b1\",\"subtype\":\"Figure\",\"type\":\"Plot\"},\"ticker\":{\"id\":\"d77f9e2b-971b-4a37-a769-43201bd8be36\",\"type\":\"BasicTicker\"}},\"id\":\"0b52823c-4e82-4162-8880-64cc160777fa\",\"type\":\"LinearAxis\"},{\"attributes\":{\"interval\":12},\"id\":\"778120d0-fdb6-49a5-9015-b7282a906a05\",\"type\":\"SingleIntervalTicker\"},{\"attributes\":{\"source\":{\"id\":\"f15d0682-9987-4fc5-9ccd-890494b5814b\",\"type\":\"ColumnDataSource\"}},\"id\":\"43cec397-c8ab-4139-88ed-c254f83f2a5c\",\"type\":\"CDSView\"},{\"attributes\":{},\"id\":\"7066b22a-e2e5-4551-9528-989ce4f1e3ed\",\"type\":\"LinearScale\"},{\"attributes\":{\"callback\":null,\"data\":{\"bottom\":{\"__ndarray__\":\"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\",\"dtype\":\"float64\",\"shape\":[242]},\"duration\":{\"__ndarray__\":\"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\",\"dtype\":\"float64\",\"shape\":[242]},\"end_time\":{\"__ndarray__\":\"Gy/dJAaB5T8bL90kBoHlP/p+arx0k+g/OrTIdr6f6j9YObTIdr7vP4ts5/up8fI/K4cW2c738z8rhxbZzvfzPyuHFtnO9/M/+n5qvHST+D9KDAIrhxb5P0oMAiuHFvk/6iYxCKwc+j86tMh2vp/6P4lBYOXQIvs/2c73U+Ol+z956SYxCKz8P2mR7Xw/Nf4/WDm0yHa+/z/8qfHSTWIAQPyp8dJNYgBApHA9CtejAEDsUbgehesBQDzfT42XbgJAPN9PjZduAkCLbOf7qfECQIPAyqFFtgNAK4cW2c73A0DTTWIQWDkEQNNNYhBYOQRAI9v5fmq8BEAbL90kBoEFQGIQWDm0yAZAsp3vp8ZLB0Cyne+nxksHQLKd76fGSwdAsp3vp8ZLB0Cq8dJNYhAIQKrx0k1iEAhA8tJNYhBYCUDqJjEIrBwKQDq0yHa+nwpAOrTIdr6fCkA6tMh2vp8KQDq0yHa+nwpAiUFg5dAiC0ApXI/C9SgMQMl2vp8aLw1AcT0K16NwDUBxPQrXo3ANQHE9CtejcA1AGQRWDi2yDUDByqFFtvMNQAisHFpkOw9ACKwcWmQ7D0CwcmiR7XwPQLByaJHtfA9A/Knx0k1iEED8qfHSTWIQQFCNl24SgxBATDeJQWDlEECgGi/dJAYRQPCnxks3iRFA8KfGSzeJEUDwp8ZLN4kRQPCnxks3iRFAlBgEVg4tEkDo+6nx0k0SQOj7qfHSTRJA6Pup8dJNEkCLbOf7qfESQIts5/up8RJA30+Nl24SE0DfT42XbhITQDMzMzMzMxNAMzMzMzMzE0Av3SQGgZUTQNejcD0K1xNA16NwPQrXE0DXo3A9CtcTQNejcD0K1xNAexSuR+F6FEAj2/l+arwUQHe+nxov3RRAd76fGi/dFEB3vp8aL90UQHe+nxov3RRAGy/dJAaBFUAbL90kBoEVQBsv3SQGgRVAGy/dJAaBFUATg8DKoUUWQBODwMqhRRZAZ2ZmZmZmFkBnZmZmZmYWQGdmZmZmZhZAtvP91HjpFkBeukkMAisXQF66SQwCKxdAXrpJDAIrF0BeukkMAisXQKrx0k1iEBhAqvHSTWIQGECq8dJNYhAYQKrx0k1iEBhA+n5qvHSTGECiRbbz/dQYQKJFtvP91BhA9ihcj8L1GEDufD81XroZQO58PzVeuhlAQmDl0CLbGUBCYOXQItsZQJLtfD81XhpAOrTIdr6fGkCNl24Sg8AaQI2XbhKDwBpA3SQGgZVDG0B1kxgEVg4dQHWTGARWDh1AcT0K16NwHUBt5/up8dIdQGmR7Xw/NR5AsHJoke18H0CwcmiR7XwfQFg5tMh2vh9AWDm0yHa+H0CsHFpkO98fQFK4HoXrUSBAppvEILByIECmm8QgsHIgQKRwPQrXoyBApHA9CtejIECkcD0K16MgQE5iEFg5tCBA+FPjpZvEIEBMN4lBYOUgQEoMAiuHFiFASgwCK4cWIUDy0k1iEFghQJzEILByaCFA8KfGSzeJIUDwp8ZLN4khQOxRuB6F6yFA7FG4HoXrIUCWQ4ts5/shQJZDi2zn+yFAPgrXo3A9IkDo+6nx0k0iQJLtfD81XiJAPN9PjZduIkA5tMh2vp8iQDeJQWDl0CJAiUFg5dAiI0AzMzMzMzMjQDMzMzMzMyNAMzMzMzMzI0DdJAaBlUMjQN0kBoGVQyNAMQisHFpkI0CF61G4HoUjQNnO91PjpSNAK4cW2c73I0DVeOkmMQgkQNV46SYxCCRAf2q8dJMYJEB/arx0kxgkQNNNYhBYOSRAfT81XrpJJEB56SYxCKwkQHnpJjEIrCRAzczMzMzMJEDNzMzMzMwkQHe+nxov3SRAd76fGi/dJEDJdr6fGi8lQHNoke18PyVAHVpkO99PJUBvEoPAyqElQBkEVg4tsiVAF9nO91PjJUDByqFFtvMlQGmR7Xw/NSZAaZHtfD81JkBpke18PzUmQGmR7Xw/NSZAukkMAiuHJkC6SQwCK4cmQLpJDAIrhyZADAIrhxbZJkC28/3UeOkmQLbz/dR46SZAtvP91HjpJkC28/3UeOkmQLbz/dR46SZAXrpJDAIrJ0Cyne+nxksnQLKd76fGSydAXI/C9ShcJ0Bcj8L1KFwnQARWDi2ynSdArkfhehSuJ0BYObTIdr4nQAIrhxbZzidAAiuHFtnOJ0CsHFpkO98nQKwcWmQ73ydA/tR46SYxKED+1HjpJjEoQP7UeOkmMShA/tR46SYxKEBQjZduEoMoQPp+arx0kyhA+n5qvHSTKED6fmq8dJMoQPp+arx0kyhA+n5qvHSTKEBMN4lBYOUoQPYoXI/C9ShA9ihcj8L1KED2KFyPwvUoQPYoXI/C9ShASOF6FK5HKUDy0k1iEFgpQEa28/3UeClARrbz/dR4KUBGtvP91HgpQEJg5dAi2ylAQmDl0CLbKUBCYOXQItspQOj7qfHSTSpA6Pup8dJNKkDo+6nx0k0qQDzfT42XbipA46WbxCCwKkA3iUFg5dAqQDeJQWDl0CpAN4lBYOXQKkDb+X5qvHQrQIXrUbgehStAg8DKoUW2K0CDwMqhRbYrQA==\",\"dtype\":\"float64\",\"shape\":[242]},\"fill_alpha\":{\"__ndarray__\":\"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\",\"dtype\":\"float64\",\"shape\":[242]},\"index\":[0,1,2,3,4,5,6,7,8,9,10,11,12,13,14,15,16,17,18,19,20,21,22,23,24,25,26,27,28,29,30,31,32,33,34,35,36,37,38,39,40,41,42,43,44,45,46,47,48,49,50,51,52,53,54,55,56,57,58,59,60,61,62,63,64,65,66,67,68,69,70,71,72,73,74,75,76,77,78,79,80,81,82,83,84,85,86,87,88,89,90,91,92,93,94,95,96,97,98,99,100,101,102,103,104,105,106,107,108,109,110,111,112,113,114,115,116,117,118,119,120,121,122,123,124,125,126,127,128,129,130,131,132,133,134,135,136,137,138,139,140,141,142,143,144,145,146,147,148,149,150,151,152,153,154,155,156,157,158,159,160,161,162,163,164,165,166,167,168,169,170,171,172,173,174,175,176,177,178,179,180,181,182,183,184,185,186,187,188,189,190,191,192,193,194,195,196,197,198,199,200,201,202,203,204,205,206,207,208,209,210,211,212,213,214,215,216,217,218,219,220,221,222,223,224,225,226,227,228,229,230,231,232,233,234,235,236,237,238,239,240,241],\"instrument\":[0,0,0,0,0,0,0,0,0,0,0,0,0,0,0,0,0,0,0,0,0,0,0,0,0,0,0,0,0,0,0,0,0,0,0,0,0,0,0,0,0,0,0,0,0,0,0,0,0,0,0,0,0,0,0,0,0,0,0,0,0,0,0,0,0,0,0,0,0,0,0,0,0,0,0,0,0,0,0,0,0,0,0,0,0,0,0,0,0,0,0,0,0,0,0,0,0,0,0,0,0,0,0,0,0,0,0,0,0,0,0,0,0,0,0,0,0,0,0,0,0,0,0,0,0,0,0,0,0,0,0,0,0,0,0,0,0,0,0,0,0,0,0,0,0,0,0,0,0,0,0,0,0,0,0,0,0,0,0,0,0,0,0,0,0,0,0,0,0,0,0,0,0,0,0,0,0,0,0,0,0,0,0,0,0,0,0,0,0,0,0,0,0,0,0,0,0,0,0,0,0,0,0,0,0,0,0,0,0,0,0,0,0,0,0,0,0,0,0,0,0,0,0,0,0,0,0,0,0,0,0,0,0,0,0,0,0,0,0,0,0,0],\"pitch\":[41,71,69,68,69,57,60,64,72,64,72,74,64,60,71,64,72,69,57,64,76,60,64,60,77,48,76,75,60,64,76,83,81,57,60,64,80,76,81,83,81,60,64,76,80,57,81,57,76,79,84,64,60,48,64,60,81,72,76,84,64,60,52,64,71,83,78,59,64,81,64,71,59,76,47,79,52,59,64,78,81,47,80,52,64,71,83,59,64,78,81,64,71,59,76,79,52,59,64,78,81,52,71,80,83,52,78,81,59,59,76,47,79,47,78,59,75,71,52,76,71,69,68,57,69,64,72,60,76,60,64,60,72,74,71,64,60,69,72,57,76,60,64,48,64,60,77,39,76,64,75,76,83,81,64,76,80,57,60,81,57,83,81,64,76,60,80,57,81,57,84,64,76,60,84,64,81,60,76,84,64,60,52,64,71,83,59,78,81,71,47,59,64,76,79,52,64,81,59,78,79,47,80,52,64,71,83,59,64,78,81,71,47,59,64,76,79,52,59,64,78,81,79,80,52,71,83,59,78,81,59,76,79,47,47,59,75,78,76,52,52,76],\"program\":[0,0,0,0,0,0,0,0,0,0,0,0,0,0,0,0,0,0,0,0,0,0,0,0,0,0,0,0,0,0,0,0,0,0,0,0,0,0,0,0,0,0,0,0,0,0,0,0,0,0,0,0,0,0,0,0,0,0,0,0,0,0,0,0,0,0,0,0,0,0,0,0,0,0,0,0,0,0,0,0,0,0,0,0,0,0,0,0,0,0,0,0,0,0,0,0,0,0,0,0,0,0,0,0,0,0,0,0,0,0,0,0,0,0,0,0,0,0,0,0,0,0,0,0,0,0,0,0,0,0,0,0,0,0,0,0,0,0,0,0,0,0,0,0,0,0,0,0,0,0,0,0,0,0,0,0,0,0,0,0,0,0,0,0,0,0,0,0,0,0,0,0,0,0,0,0,0,0,0,0,0,0,0,0,0,0,0,0,0,0,0,0,0,0,0,0,0,0,0,0,0,0,0,0,0,0,0,0,0,0,0,0,0,0,0,0,0,0,0,0,0,0,0,0,0,0,0,0,0,0,0,0,0,0,0,0,0,0,0,0,0,0],\"start_time\":{\"__ndarray__\":\"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\",\"dtype\":\"float64\",\"shape\":[242]},\"top\":{\"__ndarray__\":\"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\",\"dtype\":\"float64\",\"shape\":[242]},\"velocity\":[54,64,67,68,63,58,59,61,63,63,62,64,60,59,64,59,61,64,60,61,69,58,64,63,72,58,68,69,59,64,69,73,69,62,60,63,69,65,69,72,67,59,63,65,69,61,67,60,64,66,70,61,59,59,64,59,71,61,64,68,60,58,64,69,68,76,68,62,65,71,62,65,60,65,59,67,62,61,65,69,72,59,73,63,68,67,75,62,66,69,72,62,65,60,65,68,62,61,65,68,71,64,68,73,76,61,69,72,62,60,64,59,68,54,70,57,70,66,63,69,64,68,68,59,63,62,63,60,68,60,64,57,61,64,63,59,57,64,61,59,68,60,63,57,64,62,72,57,67,65,69,67,73,70,63,66,68,62,59,67,61,70,67,64,66,60,70,61,69,60,70,61,64,59,64,62,69,58,65,68,61,58,64,69,68,76,61,68,71,65,57,60,62,65,68,61,64,70,60,67,70,60,73,63,69,68,76,62,66,69,72,66,59,61,63,65,68,62,61,65,68,71,70,75,65,68,76,62,69,72,60,64,68,59,55,57,70,70,70,64,56,59]},\"selected\":{\"id\":\"bc8ddaff-e0ab-437d-92d3-c10e1dd211ed\",\"type\":\"Selection\"},\"selection_policy\":{\"id\":\"8b05cb6c-8c52-43a0-84f0-c63c11c54387\",\"type\":\"UnionRenderers\"}},\"id\":\"f15d0682-9987-4fc5-9ccd-890494b5814b\",\"type\":\"ColumnDataSource\"},{\"attributes\":{\"axis_label\":\"pitch (MIDI)\",\"formatter\":{\"id\":\"11113207-b840-46ab-ae88-1ca454a7da91\",\"type\":\"BasicTickFormatter\"},\"plot\":{\"id\":\"869b1fb1-1e1c-47d1-944b-cc13602667b1\",\"subtype\":\"Figure\",\"type\":\"Plot\"},\"ticker\":{\"id\":\"ee0c2538-0f73-4199-aa9f-c6a8912fe93e\",\"type\":\"SingleIntervalTicker\"}},\"id\":\"a6e86e47-fbb5-4d22-a5a4-253eae80d210\",\"type\":\"LinearAxis\"},{\"attributes\":{\"interval\":12},\"id\":\"ee0c2538-0f73-4199-aa9f-c6a8912fe93e\",\"type\":\"SingleIntervalTicker\"},{\"attributes\":{},\"id\":\"3abcf3eb-f279-4077-aa2b-317b8b49a6ba\",\"type\":\"LinearScale\"},{\"attributes\":{},\"id\":\"8b05cb6c-8c52-43a0-84f0-c63c11c54387\",\"type\":\"UnionRenderers\"}],\"root_ids\":[\"869b1fb1-1e1c-47d1-944b-cc13602667b1\"]},\"title\":\"Bokeh Application\",\"version\":\"0.13.0\"}};\n",
       "  var render_items = [{\"docid\":\"95506941-1e67-4619-ae39-3ecf6b6b9ee5\",\"roots\":{\"869b1fb1-1e1c-47d1-944b-cc13602667b1\":\"c9d8abdd-6434-40a5-99ef-6493fa218e25\"}}];\n",
       "  root.Bokeh.embed.embed_items_notebook(docs_json, render_items);\n",
       "\n",
       "  }\n",
       "  if (root.Bokeh !== undefined) {\n",
       "    embed_document(root);\n",
       "  } else {\n",
       "    var attempts = 0;\n",
       "    var timer = setInterval(function(root) {\n",
       "      if (root.Bokeh !== undefined) {\n",
       "        embed_document(root);\n",
       "        clearInterval(timer);\n",
       "      }\n",
       "      attempts++;\n",
       "      if (attempts > 100) {\n",
       "        console.log(\"Bokeh: ERROR: Unable to run BokehJS code because BokehJS library is missing\")\n",
       "        clearInterval(timer);\n",
       "      }\n",
       "    }, 10, root)\n",
       "  }\n",
       "})(window);"
      ],
      "application/vnd.bokehjs_exec.v0+json": ""
     },
     "metadata": {
      "application/vnd.bokehjs_exec.v0+json": {
       "id": "869b1fb1-1e1c-47d1-944b-cc13602667b1"
      },
      "tags": []
     },
     "output_type": "display_data"
    },
    {
     "data": {
      "text/html": [
       "<div id=\"id_2\"> </div>"
      ],
      "text/plain": [
       "<IPython.core.display.HTML object>"
      ]
     },
     "metadata": {
      "tags": []
     },
     "output_type": "display_data"
    }
   ],
   "source": [
    "filenames, frame_logits, onset_logits, velocity_values = session.run([\n",
    "    batch.filenames,\n",
    "    frame_probs_flat,\n",
    "    onset_probs_flat,\n",
    "    velocity_values_flat\n",
    "])\n",
    "\n",
    "print(('Inference complete for', filenames[0]))\n",
    "\n",
    "frame_predictions = frame_logits > .5\n",
    "\n",
    "onset_predictions = onset_logits > .5\n",
    "\n",
    "sequence_prediction = infer_util.pianoroll_to_note_sequence(\n",
    "    frame_predictions,\n",
    "    frames_per_second=data.hparams_frames_per_second(hparams),\n",
    "    min_duration_ms=0,\n",
    "    onset_predictions=onset_predictions,\n",
    "    velocity_values=velocity_values)\n",
    "\n",
    "mm.plot_sequence(sequence_prediction)\n",
    "mm.play_sequence(sequence_prediction, mm.midi_synth.fluidsynth)"
   ]
  },
  {
   "cell_type": "markdown",
   "metadata": {
    "colab_type": "text",
    "id": "FFDVTcMwj5VX"
   },
   "source": [
    "Optionally run the following cell to download a MIDI version of the inferred transcription."
   ]
  },
  {
   "cell_type": "code",
   "execution_count": 0,
   "metadata": {
    "colab": {},
    "colab_type": "code",
    "id": "3JnQW-Gaj-5d"
   },
   "outputs": [],
   "source": [
    "midi_filename = (filenames[0] + '.mid').replace(' ', '_')\n",
    "midi_io.sequence_proto_to_midi_file(sequence_prediction, midi_filename)\n",
    "\n",
    "files.download(midi_filename)"
   ]
  }
 ],
 "metadata": {
  "accelerator": "GPU",
  "colab": {
   "collapsed_sections": [],
   "name": "Onsets and Frames.ipynb",
   "provenance": [],
   "toc_visible": true,
   "version": "0.3.2"
  },
  "kernelspec": {
   "display_name": "Python 3",
   "language": "python",
   "name": "python3"
  }
 },
 "nbformat": 4,
 "nbformat_minor": 0
}
