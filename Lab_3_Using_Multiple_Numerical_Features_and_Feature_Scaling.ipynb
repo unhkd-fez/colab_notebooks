{
 "cells": [
  {
   "cell_type": "markdown",
   "metadata": {
    "colab_type": "text",
    "id": "JndnmDMp66FL"
   },
   "source": [
    "#### Copyright 2017 Google LLC."
   ]
  },
  {
   "cell_type": "code",
   "execution_count": 0,
   "metadata": {
    "cellView": "both",
    "colab": {},
    "colab_type": "code",
    "id": "hMqWDc_m6rUC"
   },
   "outputs": [],
   "source": [
    "# Licensed under the Apache License, Version 2.0 (the \"License\");\n",
    "# you may not use this file except in compliance with the License.\n",
    "# You may obtain a copy of the License at\n",
    "#\n",
    "# https://www.apache.org/licenses/LICENSE-2.0\n",
    "#\n",
    "# Unless required by applicable law or agreed to in writing, software\n",
    "# distributed under the License is distributed on an \"AS IS\" BASIS,\n",
    "# WITHOUT WARRANTIES OR CONDITIONS OF ANY KIND, either express or implied.\n",
    "# See the License for the specific language governing permissions and\n",
    "# limitations under the License."
   ]
  },
  {
   "cell_type": "markdown",
   "metadata": {
    "colab_type": "text",
    "id": "4f3CKqFUqL2-",
    "slideshow": {
     "slide_type": "slide"
    }
   },
   "source": [
    "#Lab 3: Using Multiple Numerical Features and Feature Scaling \n",
    "\n",
    "\n",
    "**Learning Objectives:**\n",
    "* Train a model using more than one feature\n",
    "* Learn the importance of feature transformations\n",
    "* Introduce linear and log transformations of features.\n"
   ]
  },
  {
   "cell_type": "markdown",
   "metadata": {
    "colab_type": "text",
    "id": "if3EBefJeqKq"
   },
   "source": [
    "### Standard Set-up\n",
    "\n",
    "We begin with the standard set-up as seen in the last lab.  We will again use the [Automobile Data Set](https://archive.ics.uci.edu/ml/datasets/automobile) and replace missing numerical values by the column mean."
   ]
  },
  {
   "cell_type": "code",
   "execution_count": 0,
   "metadata": {
    "cellView": "both",
    "colab": {
     "test": {
      "output": "ignore",
      "timeout": 600
     }
    },
    "colab_type": "code",
    "id": "6CspO1zVopXj",
    "slideshow": {
     "slide_type": "-"
    }
   },
   "outputs": [],
   "source": [
    "import fnmatch\n",
    "import math\n",
    "\n",
    "from IPython import display\n",
    "from matplotlib import cm\n",
    "from matplotlib import gridspec\n",
    "from matplotlib import pyplot as plt\n",
    "import numpy as np\n",
    "import pandas as pd\n",
    "from mpl_toolkits.mplot3d import Axes3D\n",
    "from sklearn import metrics\n",
    "import tensorflow as tf\n",
    "from tensorflow.contrib.learn.python.learn import learn_io, estimator\n",
    "\n",
    "# This line increases the amount of logging when there is an error.  You can\n",
    "# remove it if you want less logging.\n",
    "tf.logging.set_verbosity(tf.logging.ERROR)\n",
    "\n",
    "# Set the output display to have two digits for decimal places, for display\n",
    "# readability only, and limit it to printing 15 rows.\n",
    "pd.options.display.float_format = '{:.2f}'.format\n",
    "pd.options.display.max_rows = 15\n",
    "\n",
    "# Provide the names for the columns since the CSV file with the data does\n",
    "# not have a header row.\n",
    "cols = ['symboling', 'losses', 'make', 'fuel-type', 'aspiration', 'num-doors',\n",
    "        'body-style', 'drive-wheels', 'engine-location', 'wheel-base',\n",
    "        'length', 'width', 'height', 'weight', 'engine-type', 'num-cylinders',\n",
    "        'engine-size', 'fuel-system', 'bore', 'stroke', 'compression-ratio',\n",
    "        'horsepower', 'peak-rpm', 'city-mpg', 'highway-mpg', 'price']\n",
    "\n",
    "\n",
    "# Load in the data from a CSV file that is comma seperated.\n",
    "car_data = pd.read_csv('https://storage.googleapis.com/ml_universities/cars_dataset/cars_data.csv',\n",
    "                        sep=',', names=cols, header=None, encoding='latin-1')\n",
    "\n",
    "# We randomize the data, just to be sure not to get any pathological\n",
    "# ordering effects that might harm the performance of stochastic gradient\n",
    "# descent.\n",
    "car_data = car_data.reindex(np.random.permutation(car_data.index))\n",
    "\n",
    "# Coerce all missing entries to NaN, and then replace those by the column mean.\n",
    "car_data['price'] = pd.to_numeric(car_data['price'], errors='coerce')\n",
    "car_data['horsepower'] = pd.to_numeric(car_data['horsepower'], errors='coerce')\n",
    "car_data['peak-rpm'] = pd.to_numeric(car_data['peak-rpm'], errors='coerce')\n",
    "car_data['city-mpg'] = pd.to_numeric(car_data['city-mpg'], errors='coerce')\n",
    "car_data['highway-mpg'] = pd.to_numeric(car_data['highway-mpg'], errors='coerce')\n",
    "car_data.fillna(car_data.mean(), inplace=True)\n",
    "car_data.describe()"
   ]
  },
  {
   "cell_type": "markdown",
   "metadata": {
    "colab_type": "text",
    "id": "77Ag_VxFqCaX"
   },
   "source": [
    "### Setting Up the Feature Columns and Input Function for TensorFlow\n",
    "In order to train a model in TensorFlow, each feature that you want to use for training must be put into a feature column.  We create a list of the categorical and numerical features that we will use for training our model. It's okay if one of these lists is empty. We also define `train_input_fn` to use the training data."
   ]
  },
  {
   "cell_type": "code",
   "execution_count": 0,
   "metadata": {
    "colab": {},
    "colab_type": "code",
    "id": "QnU22GBnr_i3"
   },
   "outputs": [],
   "source": [
    "CATEGORICAL_COLUMNS = []\n",
    "NUMERICAL_COLUMNS = [\"price\", \"horsepower\", \"city-mpg\", \"highway-mpg\",\n",
    "                     \"peak-rpm\", \"compression-ratio\"]\n",
    "\n",
    "def input_fn(dataframe):\n",
    "  \"\"\"Constructs a dictionary for the feature columns.\n",
    "\n",
    "  Args:\n",
    "    dataframe: The Pandas DataFrame to use for the input.\n",
    "  Returns:\n",
    "    The feature columns and the associated labels for the provided input.\n",
    "  \"\"\"\n",
    "  # Creates a dictionary mapping from each numeric feature column name (k) to\n",
    "  # the values of that column stored in a constant Tensor.\n",
    "  numerical_cols = {k: tf.constant(dataframe[k].values)\n",
    "                     for k in NUMERICAL_COLUMNS}\n",
    "  # Creates a dictionary mapping from each categorical feature column name (k)\n",
    "  # to the values of that column stored in a tf.SparseTensor.\n",
    "  categorical_cols = {k: tf.SparseTensor(\n",
    "      indices=[[i, 0] for i in range(dataframe[k].size)],\n",
    "      values=dataframe[k].values,\n",
    "      dense_shape=[dataframe[k].size, 1])\n",
    "                      for k in CATEGORICAL_COLUMNS}\n",
    "  # Merges the two dictionaries into one.\n",
    "  feature_cols = dict(list(numerical_cols.items()) + list(categorical_cols.items()))\n",
    "  # Converts the label column into a constant Tensor.\n",
    "  label = tf.constant(dataframe[LABEL].values)\n",
    "  # Returns the feature columns and the label.\n",
    "  return feature_cols, label\n",
    "\n",
    "def train_input_fn():\n",
    "  \"\"\"Sets up the input function using the training data.\n",
    "\n",
    "  Returns:\n",
    "     The feature columns to use for training and the associated labels.\n",
    "  \"\"\"\n",
    "  return input_fn(training_examples)"
   ]
  },
  {
   "cell_type": "markdown",
   "metadata": {
    "colab_type": "text",
    "id": "MD--C-wVGEEg"
   },
   "source": [
    "### Defining the features and linear regression model\n",
    "\n",
    "We define a function to construct the feature columns, and to define the TensorFlow linear regression model."
   ]
  },
  {
   "cell_type": "code",
   "execution_count": 0,
   "metadata": {
    "colab": {},
    "colab_type": "code",
    "id": "uq6e_T_1F94U"
   },
   "outputs": [],
   "source": [
    "def construct_feature_columns():\n",
    "  \"\"\"Construct TensorFlow Feature Columns.\n",
    "  \n",
    "  Returns:\n",
    "    A set of feature columns.\n",
    "  \"\"\"\n",
    "  feature_set = set([tf.contrib.layers.real_valued_column(feature) \n",
    "                     for feature in NUMERICAL_FEATURES])\n",
    "  return feature_set\n",
    "\n",
    "def define_linear_regression_model(learning_rate):\n",
    "  \"\"\" Defines a linear regression model of one feature to predict the target.\n",
    "  \n",
    "  Args:\n",
    "    learning_rate: A `float`, the learning rate\n",
    "    \n",
    "  Returns:\n",
    "    A linear regressor created with the given parameters\n",
    "  \"\"\"\n",
    "  linear_regressor = tf.contrib.learn.LinearRegressor(\n",
    "    feature_columns=construct_feature_columns(),\n",
    "    optimizer=tf.train.GradientDescentOptimizer(learning_rate=learning_rate),\n",
    "    gradient_clip_norm=5.0\n",
    "  )  \n",
    "  return linear_regressor"
   ]
  },
  {
   "cell_type": "markdown",
   "metadata": {
    "colab_type": "text",
    "id": "v5XS0Z_-GevD"
   },
   "source": [
    "### Methods to visualize our results\n",
    "\n",
    "We define functions to draw a scatter plot (with model names shown in a legend), create a calibration plot, and also to plot the learning curve."
   ]
  },
  {
   "cell_type": "code",
   "execution_count": 0,
   "metadata": {
    "colab": {},
    "colab_type": "code",
    "id": "YIXTkIa6GB0s"
   },
   "outputs": [],
   "source": [
    "def make_scatter_plot(dataframe, input_feature, target,\n",
    "                      slopes=[], biases=[], model_names=[]):\n",
    "  \"\"\" Creates a scatter plot of input_feature vs target along with model names.\n",
    "  \n",
    "  Args:\n",
    "    dataframe: the dataframe to visualize\n",
    "    input_feature: the input feature to be used for the x-axis\n",
    "    target: the target to be used for the y-axis\n",
    "    slopes: list of model weights (slope) \n",
    "    bias: list of model biases (same length as slopes)\n",
    "    model_names: list of model_names to use for legend (same length as slopes)\n",
    "  \"\"\"      \n",
    "  # Define some colors to use that go from blue towards red\n",
    "  colors = [cm.coolwarm(x) for x in np.linspace(0, 1, len(slopes))]\n",
    "  \n",
    "  # Generate the scatter plot\n",
    "  x = dataframe[input_feature]\n",
    "  y = dataframe[target]\n",
    "  plt.ylabel(target)\n",
    "  plt.xlabel(input_feature)\n",
    "  plt.scatter(x, y, color='black', label=\"\")\n",
    "\n",
    "  # Add lines corresponding to the provided models\n",
    "  for i in range (0, len(slopes)):\n",
    "    y_0 = slopes[i] * x.min() + biases[i]\n",
    "    y_1 = slopes[i] * x.max() + biases[i]\n",
    "    plt.plot([x.min(), x.max()], [y_0, y_1],\n",
    "             label=model_names[i], color=colors[i])\n",
    "  plt.legend(bbox_to_anchor=(1.05, 1), loc=2, borderaxespad=0.)\n",
    "  \n",
    "def make_calibration_plot(predictions, targets):\n",
    "  \"\"\" Creates a calibration plot.\n",
    "  \n",
    "  Args:\n",
    "    predictions: a list of values predicted by the model being visualized\n",
    "    targets: a list of the target values being predicted that must be the\n",
    "             same length as predictions.\n",
    "  \"\"\"  \n",
    "  calibration_data = pd.DataFrame()\n",
    "  calibration_data[\"predictions\"] = pd.Series(predictions)\n",
    "  calibration_data[\"targets\"] = pd.Series(targets)\n",
    "  calibration_data.describe()\n",
    "  min_val = calibration_data[\"predictions\"].min()\n",
    "  max_val = calibration_data[\"predictions\"].max()\n",
    "  plt.ylabel(\"target\")\n",
    "  plt.xlabel(\"prediction\")\n",
    "  plt.scatter(predictions, targets, color='black')\n",
    "  plt.plot([min_val, max_val], [min_val, max_val])\n",
    "  \n",
    "def plot_learning_curve(training_losses):\n",
    "  \"\"\" Plot the learning curve.\n",
    "  \n",
    "  Args:\n",
    "    training_loses: a list of losses to plot.\n",
    "  \"\"\"        \n",
    "  plt.ylabel('Loss')\n",
    "  plt.xlabel('Training Steps')\n",
    "  plt.plot(training_losses)"
   ]
  },
  {
   "cell_type": "markdown",
   "metadata": {
    "colab_type": "text",
    "id": "HYwpTeMeHT9D"
   },
   "source": [
    "### Functions for training the model\n",
    "\n",
    "We use the same method as in the last lab to define the loss function (RMSE for linear regression) and to train the model."
   ]
  },
  {
   "cell_type": "code",
   "execution_count": 0,
   "metadata": {
    "colab": {},
    "colab_type": "code",
    "id": "Ivp8BYVNMFT-"
   },
   "outputs": [],
   "source": [
    "def compute_loss(predictions, targets):\n",
    "  \"\"\" Computes the loss (RMSE) for linear regression.\n",
    "  \n",
    "  Args:\n",
    "    predictions: a list of values predicted by the model.\n",
    "    targets: a list of the target values being predicted that must be the\n",
    "             same length as predictions.\n",
    "    \n",
    "  Returns:\n",
    "    The RMSE for the provided predictions and targets.\n",
    "  \"\"\"      \n",
    "  return math.sqrt(metrics.mean_squared_error(predictions, targets))\n",
    "\n",
    "def train_model(linear_regressor, steps):\n",
    "  \"\"\"Trains a linear regression model.\n",
    "  \n",
    "  Args:\n",
    "    linear_regressor: The regressor to train.\n",
    "    steps: A positive `int`, the total number of training steps.\n",
    "    \n",
    "  Returns:\n",
    "    The trained regressor.\n",
    "  \"\"\"\n",
    "  # In order to see how the model evolves as we train it, we divide the\n",
    "  # steps into ten periods, and show the model after each period.\n",
    "  periods = 10\n",
    "  steps_per_period = steps / periods\n",
    "  \n",
    "  # Train the model, but do so inside a loop so that we can periodically assess\n",
    "  # loss metrics. We store the loss, slope (feature weight), bias, and a name\n",
    "  # for the model when there is a single feature (which would then allow us\n",
    "  # to plot the model in a scatter plot).\n",
    "  print(\"Training model...\")\n",
    "  training_losses = []\n",
    "  slopes = []\n",
    "  biases = []\n",
    "  model_names = []\n",
    "\n",
    "  for period in range (0, periods):\n",
    "    # Call fit to train the regressor for steps_per_period steps\n",
    "    linear_regressor.fit(input_fn=train_input_fn, steps=steps_per_period)\n",
    "\n",
    "    # Use the predict method to compute the predictions of the current model\n",
    "    predictions = np.array(list(linear_regressor.predict(\n",
    "        input_fn=train_input_fn)))\n",
    "   \n",
    "    # Compute the loss between the predictions and correct labels, append\n",
    "    # the loss to the list of losses used to generate the learning curve after\n",
    "    # training is complete, and print the current loss\n",
    "    loss = compute_loss(predictions, training_examples[LABEL])\n",
    "    training_losses.append(loss) \n",
    "    print(\"  Loss after period %02d : %0.3f\" % (period, loss))\n",
    "     \n",
    "    # When there is a single input feature, add slope, bias and model_name to\n",
    "    # the lists to be used later to plot the model.\n",
    "    if len(NUMERICAL_FEATURES) == 1 and len(CATEGORICAL_FEATURES) == 0:\n",
    "      feature_weight = fnmatch.filter(linear_regressor.get_variable_names(),\n",
    "                                      'linear/*/weight')\n",
    "      slopes.append(linear_regressor.get_variable_value(\n",
    "          feature_weight[0])[0])\n",
    "      biases.append(linear_regressor.get_variable_value(\n",
    "          'linear/bias_weight')[0])\n",
    "      model_names.append(\"period_\" + str(period))\n",
    "      \n",
    "  # Now that training is done print the final loss    \n",
    "  print(\"Final Loss (RMSE) on the training data: %0.3f\" % loss) \n",
    "  \n",
    "  # Generate a figure with the learning curve on the left and either a scatter\n",
    "  # plot or calibration plot (when more than 2 input features) on the right.\n",
    "  plt.figure(figsize=(10, 5))\n",
    "  plt.subplot(1, 2, 1)\n",
    "  plt.title(\"Learning Curve (RMSE vs time)\")\n",
    "  plot_learning_curve(training_losses)\n",
    "  plt.subplot(1, 2, 2)\n",
    "  plt.tight_layout(pad=1.1, w_pad=3.0, h_pad=3.0)\n",
    " \n",
    "  if len(NUMERICAL_FEATURES) > 1 or len(CATEGORICAL_FEATURES) != 0:\n",
    "    plt.title(\"Calibration Plot\")\n",
    "    make_calibration_plot(predictions, training_examples[LABEL])\n",
    "\n",
    "  else:\n",
    "    plt.title(\"Learned Model by Period on Scatter Plot\")\n",
    "    make_scatter_plot(training_examples, NUMERICAL_FEATURES[0], LABEL,\n",
    "                      slopes, biases, model_names)\n",
    "   \n",
    "  return linear_regressor"
   ]
  },
  {
   "cell_type": "markdown",
   "metadata": {
    "colab_type": "text",
    "id": "AoFH5cbnuJsG"
   },
   "source": [
    "###Prepare Features\n",
    "\n",
    "In this lab you'll learn about the need to perform some feature transformation.  You'll do this by modifyijng the processed features before returning them.  So expect to modify this function later in this lab."
   ]
  },
  {
   "cell_type": "code",
   "execution_count": 0,
   "metadata": {
    "colab": {},
    "colab_type": "code",
    "id": "4_uZ7UirAw28"
   },
   "outputs": [],
   "source": [
    "def prepare_features(dataframe):\n",
    "  \"\"\"Prepares the features for the provided dataset.\n",
    "\n",
    "  Args:\n",
    "    dataframe: A Pandas DataFrame that contains the data set.\n",
    "  Returns:\n",
    "    A new DataFrame that contains the features to be used to train the model.\n",
    "  \"\"\"\n",
    "  processed_features = dataframe.copy()\n",
    "  return processed_features"
   ]
  },
  {
   "cell_type": "markdown",
   "metadata": {
    "colab_type": "text",
    "id": "zMB1h5gRu2_2"
   },
   "source": [
    "### Generate the Training Examples\n",
    "We simple call `prepare_features` on the `car_data` dataframe.  We also include code to plot a histogram of `price`, `highway-mpg` and `city-mpg` to help understand the data we are using to train our model to predict `city-mpg`."
   ]
  },
  {
   "cell_type": "code",
   "execution_count": 0,
   "metadata": {
    "colab": {},
    "colab_type": "code",
    "id": "2vyxFjtnBRrx"
   },
   "outputs": [],
   "source": [
    "training_examples = prepare_features(car_data)\n",
    "\n",
    "plt.figure(figsize=(20, 5))\n",
    "plt.subplot(1, 3, 1)\n",
    "plt.title(\"price\")\n",
    "histogram = car_data[\"price\"].hist(bins=50)\n",
    "\n",
    "plt.subplot(1, 3, 2)\n",
    "plt.title(\"highway-mpg\")\n",
    "histogram = car_data[\"highway-mpg\"].hist(bins=50)\n",
    "\n",
    "\n",
    "plt.subplot(1, 3, 3)\n",
    "plt.title(\"city-mpg\")\n",
    "histogram = car_data[\"city-mpg\"].hist(bins=50)"
   ]
  },
  {
   "cell_type": "markdown",
   "metadata": {
    "colab_type": "text",
    "id": "UBLo7cntgAO4"
   },
   "source": [
    "##Task 1: Train a Model Using Two Input Features (2 points)\n",
    "\n",
    "The focus on this lab is learning some of the issues that arise,  and how to address them when you train a model with multiple features.  The first task is to train a model to predict `city-mpg` from `highway-mpg` and `price` without using any feature processing.  Remember what you learned in the last lab about how to find a good learning rate and numer of steps to train."
   ]
  },
  {
   "cell_type": "code",
   "execution_count": 0,
   "metadata": {
    "colab": {},
    "colab_type": "code",
    "id": "SrZkt2m3gpVz"
   },
   "outputs": [],
   "source": [
    "NUMERICAL_FEATURES = [\"price\", \"highway-mpg\"]\n",
    "CATEGORICAL_FEATURES = []\n",
    "LABEL = \"city-mpg\"\n",
    "\n",
    "LEARNING_RATE = 1\n",
    "STEPS = 50\n",
    "\n",
    "linear_regressor = define_linear_regression_model(learning_rate = LEARNING_RATE)\n",
    "linear_regressor = train_model(linear_regressor, steps=STEPS)\n",
    "\n",
    "print(\"weight for price:\", linear_regressor.get_variable_value(\n",
    "    \"linear/price/weight\")[0])\n",
    "print(\"weight for highway-mpg:\", linear_regressor.get_variable_value(\n",
    "    \"linear/highway-mpg/weight\")[0])\n",
    "print(\"bias:\",  linear_regressor.get_variable_value(\"linear/bias_weight\"))"
   ]
  },
  {
   "cell_type": "markdown",
   "metadata": {
    "colab_type": "text",
    "id": "cuiR0ezDH8Gh"
   },
   "source": [
    "### Think about these questions about what you found in training your model in Task 1\n",
    "\n",
    "* Look at the weight for the two variables.  Do they match what you'd expect to see?\n",
    "* Given that `highway-mpg` is well correlated with `city-mpg`, what is it you see in the histograms that might explain why it was hard to train the model?\n",
    "* For linear regression it is important that all of the features are roughly in the same range so that a priori they are treated as equally important.  How does the range of the price compare to the highway mpg, and what effect might this have when training the model?\n"
   ]
  },
  {
   "cell_type": "markdown",
   "metadata": {
    "colab_type": "text",
    "id": "9WDsNKEgP-8e"
   },
   "source": [
    "## Task 2: Write a Linear Scaling Function (1 point)\n",
    "\n",
    "There are two characteristics we'd like of numerical features when used together to train a linear model\n",
    "* The range of the features is roughly the same\n",
    "* To the extent possible the histogram of the features kind of resembles a bell curve.  Sometimes the data will fit this very well and other times it won't.\n",
    "\n",
    "As you've already seen in the code, you can take a Pandas column (e.g. `car_data['price']`) and find the min value with `car_data['price'].min()` and likewise find the max with `car_data['price'].max()`. Note that you can use a lambda function to apply `f(x)` to all entries `x` in a Pandas column `feature` using.\n",
    "```\n",
    "   feature.apply(lambda x: f(x))\n",
    "```\n",
    "\n",
    "To provide an example of feature transformation, we have provided an implementation for log scaling.  Note that we take the log of x+1 for column value of x so that we are always taking the log of a number greater than 0 since log 0 is not defined. In this data all values are at least 0, so log(x+1) is well defined.\n",
    "\n",
    "You are to complete the implementation of `linear_scale`, in which you simply stretch/compress and shift the features linearly to fall into the interval [0,1]. The minimum value that occurs will map to 0, the maximum value that occurs will map to 1, (min + max)/2 will map to 0.5, and so on.  You will need to make sure that your output from `linear_scale` is a real number (versus an integer). Be sure to test your function on some examples.  For example if the input series originally had values going from 10 to 20, then after applying linear scale 10 should map to 0, 11 should map to 1, 12 should map to 2, ... and so on with 20 mapping to 1."
   ]
  },
  {
   "cell_type": "code",
   "execution_count": 0,
   "metadata": {
    "colab": {},
    "colab_type": "code",
    "id": "GaIy2hyRKUgE"
   },
   "outputs": [],
   "source": [
    "# Perform log scaling\n",
    "def log_scale(series):\n",
    "  return series.apply(lambda x:math.log(x+1.0))\n",
    "\n",
    "# Linearly rescales to the range [0, 1]\n",
    "# You need to write this function.  Right now it just returns the same series.\n",
    "def linear_scale(series):\n",
    "  # add any additional lines of code needed\n",
    "  return series.apply(lambda x: x)"
   ]
  },
  {
   "cell_type": "markdown",
   "metadata": {
    "colab_type": "text",
    "id": "aFIYIXKVTQYB"
   },
   "source": [
    "**Test your scaling procedure** with the following code block that applies these two scaling methods to `price` and `highway-mpg` and then draws a histogram for each."
   ]
  },
  {
   "cell_type": "code",
   "execution_count": 0,
   "metadata": {
    "colab": {},
    "colab_type": "code",
    "id": "LoxE90BfKnTQ"
   },
   "outputs": [],
   "source": [
    "def draw_histograms(feature_name):\n",
    "  plt.figure(figsize=(20, 4))\n",
    "  plt.subplot(1, 3, 1)\n",
    "  plt.title(feature_name)\n",
    "  histogram = car_data[feature_name].hist(bins=50)\n",
    "\n",
    "  plt.subplot(1, 3, 2)\n",
    "  plt.title(\"linear_scaling\")\n",
    "  scaled_features = pd.DataFrame()\n",
    "  scaled_features[feature_name] = linear_scale(car_data[feature_name])\n",
    "  histogram = scaled_features[feature_name].hist(bins=50)\n",
    "  \n",
    "  plt.subplot(1, 3, 3)\n",
    "  plt.title(\"log scaling\")\n",
    "  log_normalized_features = pd.DataFrame()\n",
    "  log_normalized_features[feature_name] = log_scale(car_data[feature_name])\n",
    "  histogram = log_normalized_features[feature_name].hist(bins=50)\n",
    "  \n",
    "draw_histograms('price')\n",
    "draw_histograms(\"highway-mpg\")"
   ]
  },
  {
   "cell_type": "markdown",
   "metadata": {
    "colab_type": "text",
    "id": "3lLK7NF3uk03"
   },
   "source": [
    "##Task 3 - Training the Model Using the Transformed Features (2 points)\n",
    "\n",
    "Modify `prepare_features` to apply linear scaling to `price` and `highway-mpg` and then train the best model you can. **Do not modify the target feature so that the RMSE can be compared to the model you trained in Task 2 and also you want your predictions to be in the correct range**.\n",
    "\n",
    "NOTE: It is possible that if your learning rate is too high you will converge to a solution that is not optimal since you are overshotting and then undershooting the best feature weights as you get close to the optimal solution.  So when looking at the scatter plot, if you converge to a model that is not good, try a slightly smaller learning rate.\n",
    "\n"
   ]
  },
  {
   "cell_type": "code",
   "execution_count": 0,
   "metadata": {
    "colab": {},
    "colab_type": "code",
    "id": "SWAmppUca4Ap"
   },
   "outputs": [],
   "source": [
    "def prepare_features(dataframe):\n",
    "  \"\"\"Prepares the features for provided dataset.\n",
    "\n",
    "  Args:\n",
    "    dataframe: A Pandas DataFrame expected to contain data from the\n",
    "      desired data set.\n",
    "  Returns:\n",
    "    A new dataFrame that contains the features to be used for the model.\n",
    "  \"\"\"\n",
    "  processed_features = dataframe.copy()\n",
    "\n",
    "  # Apply linear scaling to price and highway-mpg here\n",
    "  \n",
    "  return processed_features"
   ]
  },
  {
   "cell_type": "code",
   "execution_count": 0,
   "metadata": {
    "colab": {},
    "colab_type": "code",
    "id": "axGGiTTha4Au"
   },
   "outputs": [],
   "source": [
    "training_examples = prepare_features(car_data)\n",
    "\n",
    "histogram = training_examples[\"highway-mpg\"].hist(bins=50)\n",
    "histogram = training_examples[\"price\"].hist(bins=50)"
   ]
  },
  {
   "cell_type": "code",
   "execution_count": 0,
   "metadata": {
    "colab": {},
    "colab_type": "code",
    "id": "D7ciuwRRbEIc"
   },
   "outputs": [],
   "source": [
    "NUMERICAL_FEATURES = [\"price\", \"highway-mpg\"]\n",
    "CATEGORICAL_FEATURES = []\n",
    "LABEL = \"city-mpg\"\n",
    "\n",
    "LEARNING_RATE = 1\n",
    "STEPS = 50\n",
    "\n",
    "linear_regressor = define_linear_regression_model(learning_rate = LEARNING_RATE)\n",
    "linear_regressor = train_model(linear_regressor, steps=STEPS)\n",
    "\n",
    "# Let's also look at the weights and bias\n",
    "print(linear_regressor.get_variable_names())\n",
    "print(\"weight for price:\", linear_regressor.get_variable_value(\n",
    "    \"linear/price/weight\")[0])\n",
    "print(\"weight for highway-mpg:\", linear_regressor.get_variable_value(\n",
    "    \"linear/highway-mpg/weight\")[0])\n",
    "print(\"bias:\",  linear_regressor.get_variable_value(\"linear/bias_weight\"))"
   ]
  },
  {
   "cell_type": "markdown",
   "metadata": {
    "colab_type": "text",
    "id": "peWlRpYKbYA3"
   },
   "source": [
    "You are welcome to also explore using other feature transformations such as log scaling or linear scaling applied after log scaling.  However, for this simple problem, linear scaling is sufficient."
   ]
  }
 ],
 "metadata": {
  "colab": {
   "collapsed_sections": [
    "JndnmDMp66FL"
   ],
   "name": "Lab 3: Using Multiple Numerical Features and Feature Scaling.ipynb",
   "provenance": [],
   "version": "0.3.2"
  },
  "kernelspec": {
   "display_name": "Python 3",
   "language": "python",
   "name": "python3"
  }
 },
 "nbformat": 4,
 "nbformat_minor": 0
}
